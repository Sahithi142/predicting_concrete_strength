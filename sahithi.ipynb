{
  "nbformat": 4,
  "nbformat_minor": 0,
  "metadata": {
    "colab": {
      "name": "ravi",
      "provenance": [],
      "collapsed_sections": [
        "eM0AFvIt88ce"
      ],
      "toc_visible": true
    },
    "kernelspec": {
      "name": "python3",
      "display_name": "Python 3"
    },
    "language_info": {
      "name": "python"
    }
  },
  "cells": [
    {
      "cell_type": "code",
      "metadata": {
        "id": "0MDBgdPFRXcc"
      },
      "source": [
        "import pandas as pd\n",
        "import numpy as np\n",
        "import seaborn as sns\n",
        "import matplotlib.pyplot as plt\n",
        "\n",
        "data=pd.read_excel(r\"/content/drive/MyDrive/Concrete_Data.xls\")"
      ],
      "execution_count": 1,
      "outputs": []
    },
    {
      "cell_type": "code",
      "metadata": {
        "colab": {
          "base_uri": "https://localhost:8080/",
          "height": 246
        },
        "id": "UCAJSPyQVbCg",
        "outputId": "bd7e2c42-6d36-4a79-8a1d-c49dc1408c81"
      },
      "source": [
        "data.head()"
      ],
      "execution_count": 2,
      "outputs": [
        {
          "output_type": "execute_result",
          "data": {
            "text/html": [
              "<div>\n",
              "<style scoped>\n",
              "    .dataframe tbody tr th:only-of-type {\n",
              "        vertical-align: middle;\n",
              "    }\n",
              "\n",
              "    .dataframe tbody tr th {\n",
              "        vertical-align: top;\n",
              "    }\n",
              "\n",
              "    .dataframe thead th {\n",
              "        text-align: right;\n",
              "    }\n",
              "</style>\n",
              "<table border=\"1\" class=\"dataframe\">\n",
              "  <thead>\n",
              "    <tr style=\"text-align: right;\">\n",
              "      <th></th>\n",
              "      <th>Cement (component 1)(kg in a m^3 mixture)</th>\n",
              "      <th>Blast Furnace Slag (component 2)(kg in a m^3 mixture)</th>\n",
              "      <th>Fly Ash (component 3)(kg in a m^3 mixture)</th>\n",
              "      <th>Water  (component 4)(kg in a m^3 mixture)</th>\n",
              "      <th>Superplasticizer (component 5)(kg in a m^3 mixture)</th>\n",
              "      <th>Coarse Aggregate  (component 6)(kg in a m^3 mixture)</th>\n",
              "      <th>Fine Aggregate (component 7)(kg in a m^3 mixture)</th>\n",
              "      <th>Age (day)</th>\n",
              "      <th>Concrete compressive strength(MPa, megapascals)</th>\n",
              "    </tr>\n",
              "  </thead>\n",
              "  <tbody>\n",
              "    <tr>\n",
              "      <th>0</th>\n",
              "      <td>540.0</td>\n",
              "      <td>0.0</td>\n",
              "      <td>0.0</td>\n",
              "      <td>162.0</td>\n",
              "      <td>2.5</td>\n",
              "      <td>1040.0</td>\n",
              "      <td>676.0</td>\n",
              "      <td>28</td>\n",
              "      <td>79.986111</td>\n",
              "    </tr>\n",
              "    <tr>\n",
              "      <th>1</th>\n",
              "      <td>540.0</td>\n",
              "      <td>0.0</td>\n",
              "      <td>0.0</td>\n",
              "      <td>162.0</td>\n",
              "      <td>2.5</td>\n",
              "      <td>1055.0</td>\n",
              "      <td>676.0</td>\n",
              "      <td>28</td>\n",
              "      <td>61.887366</td>\n",
              "    </tr>\n",
              "    <tr>\n",
              "      <th>2</th>\n",
              "      <td>332.5</td>\n",
              "      <td>142.5</td>\n",
              "      <td>0.0</td>\n",
              "      <td>228.0</td>\n",
              "      <td>0.0</td>\n",
              "      <td>932.0</td>\n",
              "      <td>594.0</td>\n",
              "      <td>270</td>\n",
              "      <td>40.269535</td>\n",
              "    </tr>\n",
              "    <tr>\n",
              "      <th>3</th>\n",
              "      <td>332.5</td>\n",
              "      <td>142.5</td>\n",
              "      <td>0.0</td>\n",
              "      <td>228.0</td>\n",
              "      <td>0.0</td>\n",
              "      <td>932.0</td>\n",
              "      <td>594.0</td>\n",
              "      <td>365</td>\n",
              "      <td>41.052780</td>\n",
              "    </tr>\n",
              "    <tr>\n",
              "      <th>4</th>\n",
              "      <td>198.6</td>\n",
              "      <td>132.4</td>\n",
              "      <td>0.0</td>\n",
              "      <td>192.0</td>\n",
              "      <td>0.0</td>\n",
              "      <td>978.4</td>\n",
              "      <td>825.5</td>\n",
              "      <td>360</td>\n",
              "      <td>44.296075</td>\n",
              "    </tr>\n",
              "  </tbody>\n",
              "</table>\n",
              "</div>"
            ],
            "text/plain": [
              "   Cement (component 1)(kg in a m^3 mixture)  ...  Concrete compressive strength(MPa, megapascals) \n",
              "0                                      540.0  ...                                         79.986111\n",
              "1                                      540.0  ...                                         61.887366\n",
              "2                                      332.5  ...                                         40.269535\n",
              "3                                      332.5  ...                                         41.052780\n",
              "4                                      198.6  ...                                         44.296075\n",
              "\n",
              "[5 rows x 9 columns]"
            ]
          },
          "metadata": {
            "tags": []
          },
          "execution_count": 2
        }
      ]
    },
    {
      "cell_type": "code",
      "metadata": {
        "colab": {
          "base_uri": "https://localhost:8080/"
        },
        "id": "emuMgGASVk4g",
        "outputId": "bfc4decf-f293-4b05-93a3-c7b6805acce4"
      },
      "source": [
        "data.isnull().sum()"
      ],
      "execution_count": 3,
      "outputs": [
        {
          "output_type": "execute_result",
          "data": {
            "text/plain": [
              "Cement (component 1)(kg in a m^3 mixture)                0\n",
              "Blast Furnace Slag (component 2)(kg in a m^3 mixture)    0\n",
              "Fly Ash (component 3)(kg in a m^3 mixture)               0\n",
              "Water  (component 4)(kg in a m^3 mixture)                0\n",
              "Superplasticizer (component 5)(kg in a m^3 mixture)      0\n",
              "Coarse Aggregate  (component 6)(kg in a m^3 mixture)     0\n",
              "Fine Aggregate (component 7)(kg in a m^3 mixture)        0\n",
              "Age (day)                                                0\n",
              "Concrete compressive strength(MPa, megapascals)          0\n",
              "dtype: int64"
            ]
          },
          "metadata": {
            "tags": []
          },
          "execution_count": 3
        }
      ]
    },
    {
      "cell_type": "code",
      "metadata": {
        "colab": {
          "base_uri": "https://localhost:8080/",
          "height": 196
        },
        "id": "7zUBefKIZRCZ",
        "outputId": "b7c16777-4fd2-459f-be03-18e597370006"
      },
      "source": [
        "rc = [\"Cement\", \"BlastFurnaceSlag\", \"FlyAsh\", \"Water\", \"Superplasticizer\",\"CoarseAggregate\", \"FineAggregate\", \"Age\", \"CC_Strength\"]\n",
        "cr = list(data.columns)\n",
        "\n",
        "mapper = {}\n",
        "for i, name in enumerate(cr):\n",
        "    mapper[name] = rc[i]\n",
        "\n",
        "data = data.rename(columns=mapper)\n",
        "\n",
        "data.head()"
      ],
      "execution_count": 4,
      "outputs": [
        {
          "output_type": "execute_result",
          "data": {
            "text/html": [
              "<div>\n",
              "<style scoped>\n",
              "    .dataframe tbody tr th:only-of-type {\n",
              "        vertical-align: middle;\n",
              "    }\n",
              "\n",
              "    .dataframe tbody tr th {\n",
              "        vertical-align: top;\n",
              "    }\n",
              "\n",
              "    .dataframe thead th {\n",
              "        text-align: right;\n",
              "    }\n",
              "</style>\n",
              "<table border=\"1\" class=\"dataframe\">\n",
              "  <thead>\n",
              "    <tr style=\"text-align: right;\">\n",
              "      <th></th>\n",
              "      <th>Cement</th>\n",
              "      <th>BlastFurnaceSlag</th>\n",
              "      <th>FlyAsh</th>\n",
              "      <th>Water</th>\n",
              "      <th>Superplasticizer</th>\n",
              "      <th>CoarseAggregate</th>\n",
              "      <th>FineAggregate</th>\n",
              "      <th>Age</th>\n",
              "      <th>CC_Strength</th>\n",
              "    </tr>\n",
              "  </thead>\n",
              "  <tbody>\n",
              "    <tr>\n",
              "      <th>0</th>\n",
              "      <td>540.0</td>\n",
              "      <td>0.0</td>\n",
              "      <td>0.0</td>\n",
              "      <td>162.0</td>\n",
              "      <td>2.5</td>\n",
              "      <td>1040.0</td>\n",
              "      <td>676.0</td>\n",
              "      <td>28</td>\n",
              "      <td>79.986111</td>\n",
              "    </tr>\n",
              "    <tr>\n",
              "      <th>1</th>\n",
              "      <td>540.0</td>\n",
              "      <td>0.0</td>\n",
              "      <td>0.0</td>\n",
              "      <td>162.0</td>\n",
              "      <td>2.5</td>\n",
              "      <td>1055.0</td>\n",
              "      <td>676.0</td>\n",
              "      <td>28</td>\n",
              "      <td>61.887366</td>\n",
              "    </tr>\n",
              "    <tr>\n",
              "      <th>2</th>\n",
              "      <td>332.5</td>\n",
              "      <td>142.5</td>\n",
              "      <td>0.0</td>\n",
              "      <td>228.0</td>\n",
              "      <td>0.0</td>\n",
              "      <td>932.0</td>\n",
              "      <td>594.0</td>\n",
              "      <td>270</td>\n",
              "      <td>40.269535</td>\n",
              "    </tr>\n",
              "    <tr>\n",
              "      <th>3</th>\n",
              "      <td>332.5</td>\n",
              "      <td>142.5</td>\n",
              "      <td>0.0</td>\n",
              "      <td>228.0</td>\n",
              "      <td>0.0</td>\n",
              "      <td>932.0</td>\n",
              "      <td>594.0</td>\n",
              "      <td>365</td>\n",
              "      <td>41.052780</td>\n",
              "    </tr>\n",
              "    <tr>\n",
              "      <th>4</th>\n",
              "      <td>198.6</td>\n",
              "      <td>132.4</td>\n",
              "      <td>0.0</td>\n",
              "      <td>192.0</td>\n",
              "      <td>0.0</td>\n",
              "      <td>978.4</td>\n",
              "      <td>825.5</td>\n",
              "      <td>360</td>\n",
              "      <td>44.296075</td>\n",
              "    </tr>\n",
              "  </tbody>\n",
              "</table>\n",
              "</div>"
            ],
            "text/plain": [
              "   Cement  BlastFurnaceSlag  FlyAsh  ...  FineAggregate  Age  CC_Strength\n",
              "0   540.0               0.0     0.0  ...          676.0   28    79.986111\n",
              "1   540.0               0.0     0.0  ...          676.0   28    61.887366\n",
              "2   332.5             142.5     0.0  ...          594.0  270    40.269535\n",
              "3   332.5             142.5     0.0  ...          594.0  365    41.052780\n",
              "4   198.6             132.4     0.0  ...          825.5  360    44.296075\n",
              "\n",
              "[5 rows x 9 columns]"
            ]
          },
          "metadata": {
            "tags": []
          },
          "execution_count": 4
        }
      ]
    },
    {
      "cell_type": "code",
      "metadata": {
        "colab": {
          "base_uri": "https://localhost:8080/"
        },
        "id": "xZz1jLX0hsQr",
        "outputId": "4067442b-99b3-4c52-d461-4275b08d6ac4"
      },
      "source": [
        "data.isnull().sum()"
      ],
      "execution_count": 5,
      "outputs": [
        {
          "output_type": "execute_result",
          "data": {
            "text/plain": [
              "Cement              0\n",
              "BlastFurnaceSlag    0\n",
              "FlyAsh              0\n",
              "Water               0\n",
              "Superplasticizer    0\n",
              "CoarseAggregate     0\n",
              "FineAggregate       0\n",
              "Age                 0\n",
              "CC_Strength         0\n",
              "dtype: int64"
            ]
          },
          "metadata": {
            "tags": []
          },
          "execution_count": 5
        }
      ]
    },
    {
      "cell_type": "markdown",
      "metadata": {
        "id": "jqNrBYWpWMog"
      },
      "source": [
        "#**Data Visualization**\n",
        "\n",
        "\n",
        "\n"
      ]
    },
    {
      "cell_type": "code",
      "metadata": {
        "id": "OwyS70-0hFoY",
        "colab": {
          "base_uri": "https://localhost:8080/",
          "height": 279
        },
        "outputId": "4c9454c6-6f47-4f83-abe5-a335fbaeb8e2"
      },
      "source": [
        "sns.barplot(x='Cement',y='CC_Strength',data=data)\n",
        "plt.show()"
      ],
      "execution_count": 6,
      "outputs": [
        {
          "output_type": "display_data",
          "data": {
            "image/png": "[encoded data removed]",
            "text/plain": [
              "<Figure size 432x288 with 1 Axes>"
            ]
          },
          "metadata": {
            "tags": [],
            "needs_background": "light"
          }
        }
      ]
    },
    {
      "cell_type": "code",
      "metadata": {
        "colab": {
          "base_uri": "https://localhost:8080/",
          "height": 279
        },
        "id": "qqo9ef4bri-O",
        "outputId": "14144153-011d-4d0a-d190-34c9dea64391"
      },
      "source": [
        "sns.barplot(x='BlastFurnaceSlag',y='CC_Strength',data=data)\n",
        "plt.show()"
      ],
      "execution_count": 7,
      "outputs": [
        {
          "output_type": "display_data",
          "data": {
            "image/png": "[encoded data removed]",
            "text/plain": [
              "<Figure size 432x288 with 1 Axes>"
            ]
          },
          "metadata": {
            "tags": [],
            "needs_background": "light"
          }
        }
      ]
    },
    {
      "cell_type": "code",
      "metadata": {
        "colab": {
          "base_uri": "https://localhost:8080/",
          "height": 283
        },
        "id": "X_P8CtbbsS9W",
        "outputId": "41603d1f-f9f8-4c09-ad72-1bc0a8119e65"
      },
      "source": [
        "sns.barplot(x='FlyAsh',y='CC_Strength',data=data)\n",
        "plt.show()"
      ],
      "execution_count": 8,
      "outputs": [
        {
          "output_type": "display_data",
          "data": {
            "image/png": "[encoded data removed]",
            "text/plain": [
              "<Figure size 432x288 with 1 Axes>"
            ]
          },
          "metadata": {
            "tags": [],
            "needs_background": "light"
          }
        }
      ]
    },
    {
      "cell_type": "code",
      "metadata": {
        "colab": {
          "base_uri": "https://localhost:8080/",
          "height": 279
        },
        "id": "KOc9xB_tsZS1",
        "outputId": "8ac483aa-07cf-472c-900f-c49d31628c58"
      },
      "source": [
        "sns.barplot(x='Water',y='CC_Strength',data=data)\n",
        "plt.show()"
      ],
      "execution_count": 9,
      "outputs": [
        {
          "output_type": "display_data",
          "data": {
            "image/png": "[encoded data removed]",
            "text/plain": [
              "<Figure size 432x288 with 1 Axes>"
            ]
          },
          "metadata": {
            "tags": [],
            "needs_background": "light"
          }
        }
      ]
    },
    {
      "cell_type": "code",
      "metadata": {
        "colab": {
          "base_uri": "https://localhost:8080/",
          "height": 279
        },
        "id": "2yifbFpbsdz2",
        "outputId": "a9f6f558-3aaf-447c-8455-cf8b61774d73"
      },
      "source": [
        "sns.barplot(x='Superplasticizer',y='CC_Strength',data=data)\n",
        "plt.show()"
      ],
      "execution_count": 10,
      "outputs": [
        {
          "output_type": "display_data",
          "data": {
            "image/png": "[encoded data removed]",
            "text/plain": [
              "<Figure size 432x288 with 1 Axes>"
            ]
          },
          "metadata": {
            "tags": [],
            "needs_background": "light"
          }
        }
      ]
    },
    {
      "cell_type": "code",
      "metadata": {
        "colab": {
          "base_uri": "https://localhost:8080/",
          "height": 279
        },
        "id": "BMLXbks8sniI",
        "outputId": "587b7e04-8ff4-4942-de48-defa01faa15f"
      },
      "source": [
        "sns.barplot(x='CoarseAggregate',y='CC_Strength',data=data)\n",
        "plt.show()"
      ],
      "execution_count": 12,
      "outputs": [
        {
          "output_type": "display_data",
          "data": {
            "image/png": "[encoded data removed]",
            "text/plain": [
              "<Figure size 432x288 with 1 Axes>"
            ]
          },
          "metadata": {
            "tags": [],
            "needs_background": "light"
          }
        }
      ]
    },
    {
      "cell_type": "code",
      "metadata": {
        "colab": {
          "base_uri": "https://localhost:8080/",
          "height": 279
        },
        "id": "Fba-HpYSsv-N",
        "outputId": "a5703f85-0e18-4ed0-c09d-aa19eed07b16"
      },
      "source": [
        "sns.barplot(x='FineAggregate',y='CC_Strength',data=data)\n",
        "plt.show()"
      ],
      "execution_count": 13,
      "outputs": [
        {
          "output_type": "display_data",
          "data": {
            "image/png": "[encoded data removed]",
            "text/plain": [
              "<Figure size 432x288 with 1 Axes>"
            ]
          },
          "metadata": {
            "tags": [],
            "needs_background": "light"
          }
        }
      ]
    },
    {
      "cell_type": "code",
      "metadata": {
        "colab": {
          "base_uri": "https://localhost:8080/",
          "height": 279
        },
        "id": "tCO-00c_s6Ae",
        "outputId": "54f882b3-aba6-4bd6-a611-134c8d3cffcc"
      },
      "source": [
        "sns.barplot(x='Age',y='CC_Strength',data=data)\n",
        "plt.show()  "
      ],
      "execution_count": 14,
      "outputs": [
        {
          "output_type": "display_data",
          "data": {
            "image/png": "[encoded data removed]",
            "text/plain": [
              "<Figure size 432x288 with 1 Axes>"
            ]
          },
          "metadata": {
            "tags": [],
            "needs_background": "light"
          }
        }
      ]
    },
    {
      "cell_type": "code",
      "metadata": {
        "colab": {
          "base_uri": "https://localhost:8080/",
          "height": 684
        },
        "id": "Q_QM0nXotPnU",
        "outputId": "edb04901-f846-4494-be7c-13b8706d25ba"
      },
      "source": [
        "corr = data.corr()\n",
        "\n",
        "plt.figure(figsize=(10,10))\n",
        "sns.heatmap(corr, annot=True, cmap='Pastel1')\n",
        "b,t = plt.ylim()\n",
        "plt.ylim(b+1, t-1)\n",
        "plt.title(\"Correlation Heatmap\")\n",
        "plt.show()"
      ],
      "execution_count": 15,
      "outputs": [
        {
          "output_type": "display_data",
          "data": {
            "image/png": "[encoded data removed]",
            "text/plain": [
              "<Figure size 720x720 with 2 Axes>"
            ]
          },
          "metadata": {
            "tags": [],
            "needs_background": "light"
          }
        }
      ]
    },
    {
      "cell_type": "markdown",
      "metadata": {
        "id": "L-0dSiMMuZk8"
      },
      "source": [
        "#**Finding Out Liers**"
      ]
    },
    {
      "cell_type": "code",
      "metadata": {
        "colab": {
          "base_uri": "https://localhost:8080/",
          "height": 279
        },
        "id": "SXdEBNxbtSP8",
        "outputId": "be16e202-f9aa-43de-ccbf-2735832c4e19"
      },
      "source": [
        "sns.boxplot(x='Cement',data=data)\n",
        "plt.show()  "
      ],
      "execution_count": 16,
      "outputs": [
        {
          "output_type": "display_data",
          "data": {
            "image/png": "[encoded data removed]",
            "text/plain": [
              "<Figure size 432x288 with 1 Axes>"
            ]
          },
          "metadata": {
            "tags": [],
            "needs_background": "light"
          }
        }
      ]
    },
    {
      "cell_type": "code",
      "metadata": {
        "colab": {
          "base_uri": "https://localhost:8080/",
          "height": 279
        },
        "id": "wCZHYcfWtmB7",
        "outputId": "4a4e07f2-f346-4a4e-afec-24a20e0d01f3"
      },
      "source": [
        "sns.boxplot(x='BlastFurnaceSlag',data=data)\n",
        "plt.show()  "
      ],
      "execution_count": 17,
      "outputs": [
        {
          "output_type": "display_data",
          "data": {
            "image/png": "[encoded data removed]",
            "text/plain": [
              "<Figure size 432x288 with 1 Axes>"
            ]
          },
          "metadata": {
            "tags": [],
            "needs_background": "light"
          }
        }
      ]
    },
    {
      "cell_type": "code",
      "metadata": {
        "colab": {
          "base_uri": "https://localhost:8080/",
          "height": 279
        },
        "id": "pGwDunx2tvcz",
        "outputId": "68e1befe-b1b5-432c-f4c2-c2c79120b6f4"
      },
      "source": [
        "sns.boxplot(x='FlyAsh',data=data)\n",
        "plt.show()  "
      ],
      "execution_count": 19,
      "outputs": [
        {
          "output_type": "display_data",
          "data": {
            "image/png": "[encoded data removed]",
            "text/plain": [
              "<Figure size 432x288 with 1 Axes>"
            ]
          },
          "metadata": {
            "tags": [],
            "needs_background": "light"
          }
        }
      ]
    },
    {
      "cell_type": "code",
      "metadata": {
        "colab": {
          "base_uri": "https://localhost:8080/",
          "height": 279
        },
        "id": "w_GEAeHptzX-",
        "outputId": "14198a62-5a35-46a2-aea9-38e3cf3a2aa7"
      },
      "source": [
        "sns.boxplot(x='Water',data=data)\n",
        "plt.show()  "
      ],
      "execution_count": 20,
      "outputs": [
        {
          "output_type": "display_data",
          "data": {
            "image/png": "[encoded data removed]",
            "text/plain": [
              "<Figure size 432x288 with 1 Axes>"
            ]
          },
          "metadata": {
            "tags": [],
            "needs_background": "light"
          }
        }
      ]
    },
    {
      "cell_type": "code",
      "metadata": {
        "colab": {
          "base_uri": "https://localhost:8080/",
          "height": 279
        },
        "id": "I3Gh5k3Ct4LE",
        "outputId": "a3795278-1bad-44ba-886c-572b759a3c44"
      },
      "source": [
        "sns.boxplot(x='Superplasticizer',data=data)\n",
        "plt.show()  "
      ],
      "execution_count": 21,
      "outputs": [
        {
          "output_type": "display_data",
          "data": {
            "image/png": "[encoded data removed]",
            "text/plain": [
              "<Figure size 432x288 with 1 Axes>"
            ]
          },
          "metadata": {
            "tags": [],
            "needs_background": "light"
          }
        }
      ]
    },
    {
      "cell_type": "code",
      "metadata": {
        "colab": {
          "base_uri": "https://localhost:8080/",
          "height": 279
        },
        "id": "9R4OLVFjt-i_",
        "outputId": "bc51194b-d80c-4f8c-e41c-7c803fda3653"
      },
      "source": [
        "sns.boxplot(x='CoarseAggregate',data=data)\n",
        "plt.show()  "
      ],
      "execution_count": 22,
      "outputs": [
        {
          "output_type": "display_data",
          "data": {
            "image/png": "[encoded data removed]",
            "text/plain": [
              "<Figure size 432x288 with 1 Axes>"
            ]
          },
          "metadata": {
            "tags": [],
            "needs_background": "light"
          }
        }
      ]
    },
    {
      "cell_type": "code",
      "metadata": {
        "colab": {
          "base_uri": "https://localhost:8080/",
          "height": 279
        },
        "id": "-pSrvLUKuCP-",
        "outputId": "1361c239-a282-4e3b-b630-be76e8a2b941"
      },
      "source": [
        "sns.boxplot(x='FineAggregate',data=data)\n",
        "plt.show()  "
      ],
      "execution_count": 23,
      "outputs": [
        {
          "output_type": "display_data",
          "data": {
            "image/png": "[encoded data removed]",
            "text/plain": [
              "<Figure size 432x288 with 1 Axes>"
            ]
          },
          "metadata": {
            "tags": [],
            "needs_background": "light"
          }
        }
      ]
    },
    {
      "cell_type": "code",
      "metadata": {
        "colab": {
          "base_uri": "https://localhost:8080/",
          "height": 279
        },
        "id": "Owg0m3vVuIS8",
        "outputId": "bfa50e32-9105-4fcf-f885-16e7a2005a88"
      },
      "source": [
        "sns.boxplot(x='Age',data=data)\n",
        "plt.show()  "
      ],
      "execution_count": 24,
      "outputs": [
        {
          "output_type": "display_data",
          "data": {
            "image/png": "[encoded data removed]",
            "text/plain": [
              "<Figure size 432x288 with 1 Axes>"
            ]
          },
          "metadata": {
            "tags": [],
            "needs_background": "light"
          }
        }
      ]
    },
    {
      "cell_type": "code",
      "metadata": {
        "colab": {
          "base_uri": "https://localhost:8080/",
          "height": 280
        },
        "id": "7jMqxjFKuM48",
        "outputId": "dc213f38-e7e6-412a-8769-bfd516936eb7"
      },
      "source": [
        "sns.boxplot(x='CC_Strength',data=data)\n",
        "plt.show()  "
      ],
      "execution_count": 25,
      "outputs": [
        {
          "output_type": "display_data",
          "data": {
            "image/png": "[encoded data removed]",
            "text/plain": [
              "<Figure size 432x288 with 1 Axes>"
            ]
          },
          "metadata": {
            "tags": [],
            "needs_background": "light"
          }
        }
      ]
    },
    {
      "cell_type": "markdown",
      "metadata": {
        "id": "Dr0cumHouywT"
      },
      "source": [
        "#**Handling Out Liers**"
      ]
    },
    {
      "cell_type": "code",
      "metadata": {
        "colab": {
          "base_uri": "https://localhost:8080/"
        },
        "id": "1rO5EsUdu9I0",
        "outputId": "069a953e-2331-4764-fca4-e08f14fcfe21"
      },
      "source": [
        "from scipy import stats\n",
        "z=np.abs(stats.zscore(data))\n",
        "z\n"
      ],
      "execution_count": 26,
      "outputs": [
        {
          "output_type": "execute_result",
          "data": {
            "text/plain": [
              "array([[2.47791782, 0.85688631, 0.84713204, ..., 1.21765845, 0.27973311,\n",
              "        2.64519215],\n",
              "       [2.47791782, 0.85688631, 0.84713204, ..., 1.21765845, 0.27973311,\n",
              "        1.5612771 ],\n",
              "       [0.49144303, 0.79553263, 0.84713204, ..., 2.24091255, 3.55306569,\n",
              "        0.26660766],\n",
              "       ...,\n",
              "       [1.2700575 , 0.75958527, 0.85066095, ..., 0.08012724, 0.27973311,\n",
              "        0.7259282 ],\n",
              "       [1.16857975, 1.3080724 , 0.84713204, ..., 0.19118775, 0.27973311,\n",
              "        0.18264932],\n",
              "       [0.19401043, 0.30850389, 0.37696733, ..., 0.15072887, 0.27973311,\n",
              "        0.20461667]])"
            ]
          },
          "metadata": {
            "tags": []
          },
          "execution_count": 26
        }
      ]
    },
    {
      "cell_type": "code",
      "metadata": {
        "colab": {
          "base_uri": "https://localhost:8080/"
        },
        "id": "fmrzLaxGv2ZF",
        "outputId": "63d8c2a3-c659-47dc-bc00-cdc950d8e531"
      },
      "source": [
        "threshold=3\n",
        "print(np.where(z>3))"
      ],
      "execution_count": 27,
      "outputs": [
        {
          "output_type": "stream",
          "text": [
            "(array([  2,   3,   4,   6,  12,  17,  24,  25,  26,  30,  31,  33,  34,\n",
            "        35,  41,  42,  56,  60,  61,  63,  65,  66,  76,  79,  99, 102,\n",
            "       122, 125, 145, 148, 168, 171, 553, 559, 571, 584, 604, 610, 616,\n",
            "       620, 622, 756, 769, 792, 798, 814, 820, 873, 936]), array([7, 7, 7, 7, 7, 7, 7, 7, 7, 7, 7, 7, 7, 7, 7, 7, 7, 7, 7, 7, 7, 7,\n",
            "       4, 4, 4, 4, 4, 4, 4, 4, 4, 4, 1, 1, 1, 1, 7, 7, 7, 7, 7, 7, 7, 7,\n",
            "       7, 7, 7, 3, 3]))\n"
          ],
          "name": "stdout"
        }
      ]
    },
    {
      "cell_type": "code",
      "metadata": {
        "id": "EVo1oSvrwBQM"
      },
      "source": [
        "cleaned_data = data[(z<3).all(axis=1)]"
      ],
      "execution_count": 28,
      "outputs": []
    },
    {
      "cell_type": "code",
      "metadata": {
        "colab": {
          "base_uri": "https://localhost:8080/"
        },
        "id": "8DuMc35AwPU_",
        "outputId": "6b813799-f7c1-4f4d-b4a9-d1e55bb09a0d"
      },
      "source": [
        "cleaned_data.shape"
      ],
      "execution_count": 29,
      "outputs": [
        {
          "output_type": "execute_result",
          "data": {
            "text/plain": [
              "(981, 9)"
            ]
          },
          "metadata": {
            "tags": []
          },
          "execution_count": 29
        }
      ]
    },
    {
      "cell_type": "code",
      "metadata": {
        "colab": {
          "base_uri": "https://localhost:8080/"
        },
        "id": "qip1gc72wSbM",
        "outputId": "583bfff4-3f3f-4341-b519-b5a3425e2172"
      },
      "source": [
        "data.shape"
      ],
      "execution_count": 30,
      "outputs": [
        {
          "output_type": "execute_result",
          "data": {
            "text/plain": [
              "(1030, 9)"
            ]
          },
          "metadata": {
            "tags": []
          },
          "execution_count": 30
        }
      ]
    },
    {
      "cell_type": "code",
      "metadata": {
        "id": "2J5Ko0UWwaGP"
      },
      "source": [
        "q1 = data.quantile(0.25) #25%\n",
        "q3 = data.quantile(0.75) #75%\n",
        "IQR = q3-q1 #50%"
      ],
      "execution_count": 36,
      "outputs": []
    },
    {
      "cell_type": "code",
      "metadata": {
        "colab": {
          "base_uri": "https://localhost:8080/"
        },
        "id": "gqdzb9w8w-GK",
        "outputId": "27da3f24-bf00-479b-d3d0-6a883ead1b8d"
      },
      "source": [
        "a"
      ],
      "execution_count": 41,
      "outputs": [
        {
          "output_type": "execute_result",
          "data": {
            "text/plain": [
              "Cement               97.800000\n",
              "BlastFurnaceSlag    -85.770000\n",
              "FlyAsh              -70.962000\n",
              "Water               148.640000\n",
              "Superplasticizer     -6.096000\n",
              "CoarseAggregate     873.560000\n",
              "FineAggregate       675.120000\n",
              "Age                 -22.400000\n",
              "CC_Strength          10.249612\n",
              "dtype: float64"
            ]
          },
          "metadata": {
            "tags": []
          },
          "execution_count": 41
        }
      ]
    },
    {
      "cell_type": "code",
      "metadata": {
        "id": "ybyXCGZoxH1y"
      },
      "source": [
        "a = q1-0.6*IQR\n",
        "b = q3+0.6*IQR"
      ],
      "execution_count": 42,
      "outputs": []
    },
    {
      "cell_type": "code",
      "metadata": {
        "colab": {
          "base_uri": "https://localhost:8080/"
        },
        "id": "5OGcakvqxSzf",
        "outputId": "b4e5854d-321c-47a7-afb1-3e53edc5866f"
      },
      "source": [
        "b"
      ],
      "execution_count": 43,
      "outputs": [
        {
          "output_type": "execute_result",
          "data": {
            "text/plain": [
              "Cement               444.575000\n",
              "BlastFurnaceSlag     228.720000\n",
              "FlyAsh               189.232000\n",
              "Water                208.260000\n",
              "Superplasticizer      16.256000\n",
              "CoarseAggregate     1087.840000\n",
              "FineAggregate        879.830000\n",
              "Age                   85.400000\n",
              "CC_Strength           59.593789\n",
              "dtype: float64"
            ]
          },
          "metadata": {
            "tags": []
          },
          "execution_count": 43
        }
      ]
    },
    {
      "cell_type": "code",
      "metadata": {
        "colab": {
          "base_uri": "https://localhost:8080/",
          "height": 404
        },
        "id": "dFrQDeOZxT5d",
        "outputId": "096e83ed-0d52-4483-d738-81c4c1d82a72"
      },
      "source": [
        "(data<(q1-0.6*IQR))|(data>(q3+0.6*IQR))"
      ],
      "execution_count": 44,
      "outputs": [
        {
          "output_type": "execute_result",
          "data": {
            "text/html": [
              "<div>\n",
              "<style scoped>\n",
              "    .dataframe tbody tr th:only-of-type {\n",
              "        vertical-align: middle;\n",
              "    }\n",
              "\n",
              "    .dataframe tbody tr th {\n",
              "        vertical-align: top;\n",
              "    }\n",
              "\n",
              "    .dataframe thead th {\n",
              "        text-align: right;\n",
              "    }\n",
              "</style>\n",
              "<table border=\"1\" class=\"dataframe\">\n",
              "  <thead>\n",
              "    <tr style=\"text-align: right;\">\n",
              "      <th></th>\n",
              "      <th>Cement</th>\n",
              "      <th>BlastFurnaceSlag</th>\n",
              "      <th>FlyAsh</th>\n",
              "      <th>Water</th>\n",
              "      <th>Superplasticizer</th>\n",
              "      <th>CoarseAggregate</th>\n",
              "      <th>FineAggregate</th>\n",
              "      <th>Age</th>\n",
              "      <th>CC_Strength</th>\n",
              "    </tr>\n",
              "  </thead>\n",
              "  <tbody>\n",
              "    <tr>\n",
              "      <th>0</th>\n",
              "      <td>True</td>\n",
              "      <td>False</td>\n",
              "      <td>False</td>\n",
              "      <td>False</td>\n",
              "      <td>False</td>\n",
              "      <td>False</td>\n",
              "      <td>False</td>\n",
              "      <td>False</td>\n",
              "      <td>True</td>\n",
              "    </tr>\n",
              "    <tr>\n",
              "      <th>1</th>\n",
              "      <td>True</td>\n",
              "      <td>False</td>\n",
              "      <td>False</td>\n",
              "      <td>False</td>\n",
              "      <td>False</td>\n",
              "      <td>False</td>\n",
              "      <td>False</td>\n",
              "      <td>False</td>\n",
              "      <td>True</td>\n",
              "    </tr>\n",
              "    <tr>\n",
              "      <th>2</th>\n",
              "      <td>False</td>\n",
              "      <td>False</td>\n",
              "      <td>False</td>\n",
              "      <td>True</td>\n",
              "      <td>False</td>\n",
              "      <td>False</td>\n",
              "      <td>True</td>\n",
              "      <td>True</td>\n",
              "      <td>False</td>\n",
              "    </tr>\n",
              "    <tr>\n",
              "      <th>3</th>\n",
              "      <td>False</td>\n",
              "      <td>False</td>\n",
              "      <td>False</td>\n",
              "      <td>True</td>\n",
              "      <td>False</td>\n",
              "      <td>False</td>\n",
              "      <td>True</td>\n",
              "      <td>True</td>\n",
              "      <td>False</td>\n",
              "    </tr>\n",
              "    <tr>\n",
              "      <th>4</th>\n",
              "      <td>False</td>\n",
              "      <td>False</td>\n",
              "      <td>False</td>\n",
              "      <td>False</td>\n",
              "      <td>False</td>\n",
              "      <td>False</td>\n",
              "      <td>False</td>\n",
              "      <td>True</td>\n",
              "      <td>False</td>\n",
              "    </tr>\n",
              "    <tr>\n",
              "      <th>...</th>\n",
              "      <td>...</td>\n",
              "      <td>...</td>\n",
              "      <td>...</td>\n",
              "      <td>...</td>\n",
              "      <td>...</td>\n",
              "      <td>...</td>\n",
              "      <td>...</td>\n",
              "      <td>...</td>\n",
              "      <td>...</td>\n",
              "    </tr>\n",
              "    <tr>\n",
              "      <th>1025</th>\n",
              "      <td>False</td>\n",
              "      <td>False</td>\n",
              "      <td>False</td>\n",
              "      <td>False</td>\n",
              "      <td>False</td>\n",
              "      <td>True</td>\n",
              "      <td>False</td>\n",
              "      <td>False</td>\n",
              "      <td>False</td>\n",
              "    </tr>\n",
              "    <tr>\n",
              "      <th>1026</th>\n",
              "      <td>False</td>\n",
              "      <td>False</td>\n",
              "      <td>False</td>\n",
              "      <td>False</td>\n",
              "      <td>False</td>\n",
              "      <td>True</td>\n",
              "      <td>False</td>\n",
              "      <td>False</td>\n",
              "      <td>False</td>\n",
              "    </tr>\n",
              "    <tr>\n",
              "      <th>1027</th>\n",
              "      <td>False</td>\n",
              "      <td>False</td>\n",
              "      <td>False</td>\n",
              "      <td>False</td>\n",
              "      <td>False</td>\n",
              "      <td>False</td>\n",
              "      <td>False</td>\n",
              "      <td>False</td>\n",
              "      <td>False</td>\n",
              "    </tr>\n",
              "    <tr>\n",
              "      <th>1028</th>\n",
              "      <td>False</td>\n",
              "      <td>False</td>\n",
              "      <td>False</td>\n",
              "      <td>False</td>\n",
              "      <td>False</td>\n",
              "      <td>False</td>\n",
              "      <td>False</td>\n",
              "      <td>False</td>\n",
              "      <td>False</td>\n",
              "    </tr>\n",
              "    <tr>\n",
              "      <th>1029</th>\n",
              "      <td>False</td>\n",
              "      <td>False</td>\n",
              "      <td>False</td>\n",
              "      <td>False</td>\n",
              "      <td>False</td>\n",
              "      <td>True</td>\n",
              "      <td>False</td>\n",
              "      <td>False</td>\n",
              "      <td>False</td>\n",
              "    </tr>\n",
              "  </tbody>\n",
              "</table>\n",
              "<p>1030 rows × 9 columns</p>\n",
              "</div>"
            ],
            "text/plain": [
              "      Cement  BlastFurnaceSlag  FlyAsh  ...  FineAggregate    Age  CC_Strength\n",
              "0       True             False   False  ...          False  False         True\n",
              "1       True             False   False  ...          False  False         True\n",
              "2      False             False   False  ...           True   True        False\n",
              "3      False             False   False  ...           True   True        False\n",
              "4      False             False   False  ...          False   True        False\n",
              "...      ...               ...     ...  ...            ...    ...          ...\n",
              "1025   False             False   False  ...          False  False        False\n",
              "1026   False             False   False  ...          False  False        False\n",
              "1027   False             False   False  ...          False  False        False\n",
              "1028   False             False   False  ...          False  False        False\n",
              "1029   False             False   False  ...          False  False        False\n",
              "\n",
              "[1030 rows x 9 columns]"
            ]
          },
          "metadata": {
            "tags": []
          },
          "execution_count": 44
        }
      ]
    },
    {
      "cell_type": "code",
      "metadata": {
        "id": "Gx9VfLZXyhVd"
      },
      "source": [
        "iqr_clean=data[~((data<(q1-0.6*IQR))|(data>(q3+0.6*IQR))).any(axis=1)]"
      ],
      "execution_count": 45,
      "outputs": []
    },
    {
      "cell_type": "code",
      "metadata": {
        "colab": {
          "base_uri": "https://localhost:8080/"
        },
        "id": "2A6mxtdtymHt",
        "outputId": "5762027f-9e3d-49b4-9516-2905f07ae96a"
      },
      "source": [
        "iqr_clean.shape\n",
        "data.shape"
      ],
      "execution_count": 46,
      "outputs": [
        {
          "output_type": "execute_result",
          "data": {
            "text/plain": [
              "(1030, 9)"
            ]
          },
          "metadata": {
            "tags": []
          },
          "execution_count": 46
        }
      ]
    },
    {
      "cell_type": "code",
      "metadata": {
        "colab": {
          "base_uri": "https://localhost:8080/",
          "height": 404
        },
        "id": "zOZ9s3XMyrnh",
        "outputId": "bda17c41-8560-41fc-8190-494c7544528f"
      },
      "source": [
        "iqr_clean"
      ],
      "execution_count": 47,
      "outputs": [
        {
          "output_type": "execute_result",
          "data": {
            "text/html": [
              "<div>\n",
              "<style scoped>\n",
              "    .dataframe tbody tr th:only-of-type {\n",
              "        vertical-align: middle;\n",
              "    }\n",
              "\n",
              "    .dataframe tbody tr th {\n",
              "        vertical-align: top;\n",
              "    }\n",
              "\n",
              "    .dataframe thead th {\n",
              "        text-align: right;\n",
              "    }\n",
              "</style>\n",
              "<table border=\"1\" class=\"dataframe\">\n",
              "  <thead>\n",
              "    <tr style=\"text-align: right;\">\n",
              "      <th></th>\n",
              "      <th>Cement</th>\n",
              "      <th>BlastFurnaceSlag</th>\n",
              "      <th>FlyAsh</th>\n",
              "      <th>Water</th>\n",
              "      <th>Superplasticizer</th>\n",
              "      <th>CoarseAggregate</th>\n",
              "      <th>FineAggregate</th>\n",
              "      <th>Age</th>\n",
              "      <th>CC_Strength</th>\n",
              "    </tr>\n",
              "  </thead>\n",
              "  <tbody>\n",
              "    <tr>\n",
              "      <th>11</th>\n",
              "      <td>198.6</td>\n",
              "      <td>132.4</td>\n",
              "      <td>0.0</td>\n",
              "      <td>192.0</td>\n",
              "      <td>0.0</td>\n",
              "      <td>978.4</td>\n",
              "      <td>825.5</td>\n",
              "      <td>28</td>\n",
              "      <td>28.021684</td>\n",
              "    </tr>\n",
              "    <tr>\n",
              "      <th>21</th>\n",
              "      <td>139.6</td>\n",
              "      <td>209.4</td>\n",
              "      <td>0.0</td>\n",
              "      <td>192.0</td>\n",
              "      <td>0.0</td>\n",
              "      <td>1047.0</td>\n",
              "      <td>806.9</td>\n",
              "      <td>28</td>\n",
              "      <td>28.237490</td>\n",
              "    </tr>\n",
              "    <tr>\n",
              "      <th>46</th>\n",
              "      <td>349.0</td>\n",
              "      <td>0.0</td>\n",
              "      <td>0.0</td>\n",
              "      <td>192.0</td>\n",
              "      <td>0.0</td>\n",
              "      <td>1047.0</td>\n",
              "      <td>806.9</td>\n",
              "      <td>3</td>\n",
              "      <td>15.049193</td>\n",
              "    </tr>\n",
              "    <tr>\n",
              "      <th>54</th>\n",
              "      <td>139.6</td>\n",
              "      <td>209.4</td>\n",
              "      <td>0.0</td>\n",
              "      <td>192.0</td>\n",
              "      <td>0.0</td>\n",
              "      <td>1047.0</td>\n",
              "      <td>806.9</td>\n",
              "      <td>7</td>\n",
              "      <td>14.589312</td>\n",
              "    </tr>\n",
              "    <tr>\n",
              "      <th>55</th>\n",
              "      <td>198.6</td>\n",
              "      <td>132.4</td>\n",
              "      <td>0.0</td>\n",
              "      <td>192.0</td>\n",
              "      <td>0.0</td>\n",
              "      <td>978.4</td>\n",
              "      <td>825.5</td>\n",
              "      <td>7</td>\n",
              "      <td>14.638265</td>\n",
              "    </tr>\n",
              "    <tr>\n",
              "      <th>...</th>\n",
              "      <td>...</td>\n",
              "      <td>...</td>\n",
              "      <td>...</td>\n",
              "      <td>...</td>\n",
              "      <td>...</td>\n",
              "      <td>...</td>\n",
              "      <td>...</td>\n",
              "      <td>...</td>\n",
              "      <td>...</td>\n",
              "    </tr>\n",
              "    <tr>\n",
              "      <th>1015</th>\n",
              "      <td>322.5</td>\n",
              "      <td>148.6</td>\n",
              "      <td>0.0</td>\n",
              "      <td>185.8</td>\n",
              "      <td>8.5</td>\n",
              "      <td>951.0</td>\n",
              "      <td>709.5</td>\n",
              "      <td>28</td>\n",
              "      <td>52.426376</td>\n",
              "    </tr>\n",
              "    <tr>\n",
              "      <th>1017</th>\n",
              "      <td>313.8</td>\n",
              "      <td>0.0</td>\n",
              "      <td>112.6</td>\n",
              "      <td>169.9</td>\n",
              "      <td>10.1</td>\n",
              "      <td>925.3</td>\n",
              "      <td>782.9</td>\n",
              "      <td>28</td>\n",
              "      <td>38.461040</td>\n",
              "    </tr>\n",
              "    <tr>\n",
              "      <th>1020</th>\n",
              "      <td>288.4</td>\n",
              "      <td>121.0</td>\n",
              "      <td>0.0</td>\n",
              "      <td>177.4</td>\n",
              "      <td>7.0</td>\n",
              "      <td>907.9</td>\n",
              "      <td>829.5</td>\n",
              "      <td>28</td>\n",
              "      <td>42.140084</td>\n",
              "    </tr>\n",
              "    <tr>\n",
              "      <th>1027</th>\n",
              "      <td>148.5</td>\n",
              "      <td>139.4</td>\n",
              "      <td>108.6</td>\n",
              "      <td>192.7</td>\n",
              "      <td>6.1</td>\n",
              "      <td>892.4</td>\n",
              "      <td>780.0</td>\n",
              "      <td>28</td>\n",
              "      <td>23.696601</td>\n",
              "    </tr>\n",
              "    <tr>\n",
              "      <th>1028</th>\n",
              "      <td>159.1</td>\n",
              "      <td>186.7</td>\n",
              "      <td>0.0</td>\n",
              "      <td>175.6</td>\n",
              "      <td>11.3</td>\n",
              "      <td>989.6</td>\n",
              "      <td>788.9</td>\n",
              "      <td>28</td>\n",
              "      <td>32.768036</td>\n",
              "    </tr>\n",
              "  </tbody>\n",
              "</table>\n",
              "<p>396 rows × 9 columns</p>\n",
              "</div>"
            ],
            "text/plain": [
              "      Cement  BlastFurnaceSlag  FlyAsh  ...  FineAggregate  Age  CC_Strength\n",
              "11     198.6             132.4     0.0  ...          825.5   28    28.021684\n",
              "21     139.6             209.4     0.0  ...          806.9   28    28.237490\n",
              "46     349.0               0.0     0.0  ...          806.9    3    15.049193\n",
              "54     139.6             209.4     0.0  ...          806.9    7    14.589312\n",
              "55     198.6             132.4     0.0  ...          825.5    7    14.638265\n",
              "...      ...               ...     ...  ...            ...  ...          ...\n",
              "1015   322.5             148.6     0.0  ...          709.5   28    52.426376\n",
              "1017   313.8               0.0   112.6  ...          782.9   28    38.461040\n",
              "1020   288.4             121.0     0.0  ...          829.5   28    42.140084\n",
              "1027   148.5             139.4   108.6  ...          780.0   28    23.696601\n",
              "1028   159.1             186.7     0.0  ...          788.9   28    32.768036\n",
              "\n",
              "[396 rows x 9 columns]"
            ]
          },
          "metadata": {
            "tags": []
          },
          "execution_count": 47
        }
      ]
    },
    {
      "cell_type": "code",
      "metadata": {
        "colab": {
          "base_uri": "https://localhost:8080/",
          "height": 279
        },
        "id": "h7RSTerb4vf2",
        "outputId": "5ef68018-b699-43f6-e8f7-f0b6c716e82b"
      },
      "source": [
        "sns.boxplot(x='BlastFurnaceSlag',data=iqr_clean)\n",
        "plt.show()"
      ],
      "execution_count": 48,
      "outputs": [
        {
          "output_type": "display_data",
          "data": {
            "image/png": "[encoded data removed]",
            "text/plain": [
              "<Figure size 432x288 with 1 Axes>"
            ]
          },
          "metadata": {
            "tags": [],
            "needs_background": "light"
          }
        }
      ]
    },
    {
      "cell_type": "code",
      "metadata": {
        "colab": {
          "base_uri": "https://localhost:8080/",
          "height": 279
        },
        "id": "957JRoYL5Bzl",
        "outputId": "6bae8331-8c29-43eb-8c94-331b8dd01766"
      },
      "source": [
        "sns.boxplot(x='Water',data=iqr_clean)\n",
        "plt.show()"
      ],
      "execution_count": 49,
      "outputs": [
        {
          "output_type": "display_data",
          "data": {
            "image/png": "[encoded data removed]",
            "text/plain": [
              "<Figure size 432x288 with 1 Axes>"
            ]
          },
          "metadata": {
            "tags": [],
            "needs_background": "light"
          }
        }
      ]
    },
    {
      "cell_type": "code",
      "metadata": {
        "colab": {
          "base_uri": "https://localhost:8080/",
          "height": 279
        },
        "id": "jZiixwJ55E6m",
        "outputId": "bbe47ce0-456a-4771-edc4-3ed617847904"
      },
      "source": [
        "sns.boxplot(x='Superplasticizer',data=iqr_clean)\n",
        "plt.show()"
      ],
      "execution_count": 50,
      "outputs": [
        {
          "output_type": "display_data",
          "data": {
            "image/png": "[encoded data removed]",
            "text/plain": [
              "<Figure size 432x288 with 1 Axes>"
            ]
          },
          "metadata": {
            "tags": [],
            "needs_background": "light"
          }
        }
      ]
    },
    {
      "cell_type": "code",
      "metadata": {
        "colab": {
          "base_uri": "https://localhost:8080/",
          "height": 279
        },
        "id": "FTNJivYK5Jd-",
        "outputId": "23a23a67-2ba4-44bf-d068-4564b2fe475c"
      },
      "source": [
        "sns.boxplot(x='FineAggregate',data=iqr_clean)\n",
        "plt.show()"
      ],
      "execution_count": 51,
      "outputs": [
        {
          "output_type": "display_data",
          "data": {
            "image/png": "[encoded data removed]",
            "text/plain": [
              "<Figure size 432x288 with 1 Axes>"
            ]
          },
          "metadata": {
            "tags": [],
            "needs_background": "light"
          }
        }
      ]
    },
    {
      "cell_type": "code",
      "metadata": {
        "colab": {
          "base_uri": "https://localhost:8080/",
          "height": 279
        },
        "id": "_lS8ht50ywbE",
        "outputId": "e2c9db11-c702-4a7f-e0b7-9409a9296648"
      },
      "source": [
        "sns.boxplot(x='Age',data=iqr_clean)\n",
        "plt.show()"
      ],
      "execution_count": 52,
      "outputs": [
        {
          "output_type": "display_data",
          "data": {
            "image/png": "[encoded data removed]",
            "text/plain": [
              "<Figure size 432x288 with 1 Axes>"
            ]
          },
          "metadata": {
            "tags": [],
            "needs_background": "light"
          }
        }
      ]
    },
    {
      "cell_type": "code",
      "metadata": {
        "colab": {
          "base_uri": "https://localhost:8080/",
          "height": 280
        },
        "id": "EPtrYVbl5Pet",
        "outputId": "fcc229a4-3615-4155-be0d-32ddd9844a36"
      },
      "source": [
        "sns.boxplot(x='CC_Strength',data=iqr_clean)\n",
        "plt.show()"
      ],
      "execution_count": 53,
      "outputs": [
        {
          "output_type": "display_data",
          "data": {
            "image/png": "[encoded data removed]",
            "text/plain": [
              "<Figure size 432x288 with 1 Axes>"
            ]
          },
          "metadata": {
            "tags": [],
            "needs_background": "light"
          }
        }
      ]
    },
    {
      "cell_type": "markdown",
      "metadata": {
        "id": "1dBLrTmX5bWm"
      },
      "source": [
        "#**Splitting Data Set**"
      ]
    },
    {
      "cell_type": "code",
      "metadata": {
        "colab": {
          "base_uri": "https://localhost:8080/",
          "height": 404
        },
        "id": "5FWV8U-x6WiS",
        "outputId": "289f72d2-60da-4416-9335-e1a23f80cf5e"
      },
      "source": [
        "X = pd.DataFrame(data.iloc[:,:-1])\n",
        "Y = pd.DataFrame(data.iloc[:,-1])\n",
        "X"
      ],
      "execution_count": 54,
      "outputs": [
        {
          "output_type": "execute_result",
          "data": {
            "text/html": [
              "<div>\n",
              "<style scoped>\n",
              "    .dataframe tbody tr th:only-of-type {\n",
              "        vertical-align: middle;\n",
              "    }\n",
              "\n",
              "    .dataframe tbody tr th {\n",
              "        vertical-align: top;\n",
              "    }\n",
              "\n",
              "    .dataframe thead th {\n",
              "        text-align: right;\n",
              "    }\n",
              "</style>\n",
              "<table border=\"1\" class=\"dataframe\">\n",
              "  <thead>\n",
              "    <tr style=\"text-align: right;\">\n",
              "      <th></th>\n",
              "      <th>Cement</th>\n",
              "      <th>BlastFurnaceSlag</th>\n",
              "      <th>FlyAsh</th>\n",
              "      <th>Water</th>\n",
              "      <th>Superplasticizer</th>\n",
              "      <th>CoarseAggregate</th>\n",
              "      <th>FineAggregate</th>\n",
              "      <th>Age</th>\n",
              "    </tr>\n",
              "  </thead>\n",
              "  <tbody>\n",
              "    <tr>\n",
              "      <th>0</th>\n",
              "      <td>540.0</td>\n",
              "      <td>0.0</td>\n",
              "      <td>0.0</td>\n",
              "      <td>162.0</td>\n",
              "      <td>2.5</td>\n",
              "      <td>1040.0</td>\n",
              "      <td>676.0</td>\n",
              "      <td>28</td>\n",
              "    </tr>\n",
              "    <tr>\n",
              "      <th>1</th>\n",
              "      <td>540.0</td>\n",
              "      <td>0.0</td>\n",
              "      <td>0.0</td>\n",
              "      <td>162.0</td>\n",
              "      <td>2.5</td>\n",
              "      <td>1055.0</td>\n",
              "      <td>676.0</td>\n",
              "      <td>28</td>\n",
              "    </tr>\n",
              "    <tr>\n",
              "      <th>2</th>\n",
              "      <td>332.5</td>\n",
              "      <td>142.5</td>\n",
              "      <td>0.0</td>\n",
              "      <td>228.0</td>\n",
              "      <td>0.0</td>\n",
              "      <td>932.0</td>\n",
              "      <td>594.0</td>\n",
              "      <td>270</td>\n",
              "    </tr>\n",
              "    <tr>\n",
              "      <th>3</th>\n",
              "      <td>332.5</td>\n",
              "      <td>142.5</td>\n",
              "      <td>0.0</td>\n",
              "      <td>228.0</td>\n",
              "      <td>0.0</td>\n",
              "      <td>932.0</td>\n",
              "      <td>594.0</td>\n",
              "      <td>365</td>\n",
              "    </tr>\n",
              "    <tr>\n",
              "      <th>4</th>\n",
              "      <td>198.6</td>\n",
              "      <td>132.4</td>\n",
              "      <td>0.0</td>\n",
              "      <td>192.0</td>\n",
              "      <td>0.0</td>\n",
              "      <td>978.4</td>\n",
              "      <td>825.5</td>\n",
              "      <td>360</td>\n",
              "    </tr>\n",
              "    <tr>\n",
              "      <th>...</th>\n",
              "      <td>...</td>\n",
              "      <td>...</td>\n",
              "      <td>...</td>\n",
              "      <td>...</td>\n",
              "      <td>...</td>\n",
              "      <td>...</td>\n",
              "      <td>...</td>\n",
              "      <td>...</td>\n",
              "    </tr>\n",
              "    <tr>\n",
              "      <th>1025</th>\n",
              "      <td>276.4</td>\n",
              "      <td>116.0</td>\n",
              "      <td>90.3</td>\n",
              "      <td>179.6</td>\n",
              "      <td>8.9</td>\n",
              "      <td>870.1</td>\n",
              "      <td>768.3</td>\n",
              "      <td>28</td>\n",
              "    </tr>\n",
              "    <tr>\n",
              "      <th>1026</th>\n",
              "      <td>322.2</td>\n",
              "      <td>0.0</td>\n",
              "      <td>115.6</td>\n",
              "      <td>196.0</td>\n",
              "      <td>10.4</td>\n",
              "      <td>817.9</td>\n",
              "      <td>813.4</td>\n",
              "      <td>28</td>\n",
              "    </tr>\n",
              "    <tr>\n",
              "      <th>1027</th>\n",
              "      <td>148.5</td>\n",
              "      <td>139.4</td>\n",
              "      <td>108.6</td>\n",
              "      <td>192.7</td>\n",
              "      <td>6.1</td>\n",
              "      <td>892.4</td>\n",
              "      <td>780.0</td>\n",
              "      <td>28</td>\n",
              "    </tr>\n",
              "    <tr>\n",
              "      <th>1028</th>\n",
              "      <td>159.1</td>\n",
              "      <td>186.7</td>\n",
              "      <td>0.0</td>\n",
              "      <td>175.6</td>\n",
              "      <td>11.3</td>\n",
              "      <td>989.6</td>\n",
              "      <td>788.9</td>\n",
              "      <td>28</td>\n",
              "    </tr>\n",
              "    <tr>\n",
              "      <th>1029</th>\n",
              "      <td>260.9</td>\n",
              "      <td>100.5</td>\n",
              "      <td>78.3</td>\n",
              "      <td>200.6</td>\n",
              "      <td>8.6</td>\n",
              "      <td>864.5</td>\n",
              "      <td>761.5</td>\n",
              "      <td>28</td>\n",
              "    </tr>\n",
              "  </tbody>\n",
              "</table>\n",
              "<p>1030 rows × 8 columns</p>\n",
              "</div>"
            ],
            "text/plain": [
              "      Cement  BlastFurnaceSlag  FlyAsh  ...  CoarseAggregate  FineAggregate  Age\n",
              "0      540.0               0.0     0.0  ...           1040.0          676.0   28\n",
              "1      540.0               0.0     0.0  ...           1055.0          676.0   28\n",
              "2      332.5             142.5     0.0  ...            932.0          594.0  270\n",
              "3      332.5             142.5     0.0  ...            932.0          594.0  365\n",
              "4      198.6             132.4     0.0  ...            978.4          825.5  360\n",
              "...      ...               ...     ...  ...              ...            ...  ...\n",
              "1025   276.4             116.0    90.3  ...            870.1          768.3   28\n",
              "1026   322.2               0.0   115.6  ...            817.9          813.4   28\n",
              "1027   148.5             139.4   108.6  ...            892.4          780.0   28\n",
              "1028   159.1             186.7     0.0  ...            989.6          788.9   28\n",
              "1029   260.9             100.5    78.3  ...            864.5          761.5   28\n",
              "\n",
              "[1030 rows x 8 columns]"
            ]
          },
          "metadata": {
            "tags": []
          },
          "execution_count": 54
        }
      ]
    },
    {
      "cell_type": "code",
      "metadata": {
        "id": "tY52AAKW7w-u"
      },
      "source": [
        "from sklearn.model_selection import train_test_split\n",
        "X_train, X_test, Y_train, Y_test = train_test_split(X, Y, test_size=0.2, random_state=0)"
      ],
      "execution_count": 55,
      "outputs": []
    },
    {
      "cell_type": "code",
      "metadata": {
        "colab": {
          "base_uri": "https://localhost:8080/"
        },
        "id": "2SLohI4QCoIO",
        "outputId": "f2b69fdb-9c79-4009-ad2f-a814b0847a31"
      },
      "source": [
        "print(X_train.shape)\n",
        "print(X_test.shape)\n",
        "print(Y_train.shape)\n",
        "print(Y_test.shape)"
      ],
      "execution_count": 56,
      "outputs": [
        {
          "output_type": "stream",
          "text": [
            "(824, 8)\n",
            "(206, 8)\n",
            "(824, 1)\n",
            "(206, 1)\n"
          ],
          "name": "stdout"
        }
      ]
    },
    {
      "cell_type": "markdown",
      "metadata": {
        "id": "SVVyioew81_P"
      },
      "source": [
        "#**Feature Scaling**"
      ]
    },
    {
      "cell_type": "code",
      "metadata": {
        "id": "MUo9itA78FHS"
      },
      "source": [
        "from sklearn.preprocessing import StandardScaler\n",
        "sc = StandardScaler()\n",
        "X_train = sc.fit_transform(X_train)\n",
        "X_test = sc.transform(X_test)"
      ],
      "execution_count": 57,
      "outputs": []
    },
    {
      "cell_type": "markdown",
      "metadata": {
        "id": "eM0AFvIt88ce"
      },
      "source": [
        "#**Model Building**"
      ]
    },
    {
      "cell_type": "markdown",
      "metadata": {
        "id": "umfOrHIk8rCd"
      },
      "source": [
        "#**Linear Regression**"
      ]
    },
    {
      "cell_type": "code",
      "metadata": {
        "colab": {
          "base_uri": "https://localhost:8080/"
        },
        "id": "oDsOYMa687be",
        "outputId": "3f3abfbb-a77e-4c7b-cece-2f4b767f36c1"
      },
      "source": [
        "from sklearn.linear_model import LinearRegression\n",
        "\n",
        "lr=LinearRegression()\n",
        "lr.fit(X_train,Y_train)"
      ],
      "execution_count": 58,
      "outputs": [
        {
          "output_type": "execute_result",
          "data": {
            "text/plain": [
              "LinearRegression(copy_X=True, fit_intercept=True, n_jobs=None, normalize=False)"
            ]
          },
          "metadata": {
            "tags": []
          },
          "execution_count": 58
        }
      ]
    },
    {
      "cell_type": "code",
      "metadata": {
        "colab": {
          "base_uri": "https://localhost:8080/",
          "height": 404
        },
        "id": "2ZX0PvWk9y3F",
        "outputId": "bf8e3ba2-6f8e-41f6-a1ad-090be138ddd7"
      },
      "source": [
        "Y_test"
      ],
      "execution_count": 59,
      "outputs": [
        {
          "output_type": "execute_result",
          "data": {
            "text/html": [
              "<div>\n",
              "<style scoped>\n",
              "    .dataframe tbody tr th:only-of-type {\n",
              "        vertical-align: middle;\n",
              "    }\n",
              "\n",
              "    .dataframe tbody tr th {\n",
              "        vertical-align: top;\n",
              "    }\n",
              "\n",
              "    .dataframe thead th {\n",
              "        text-align: right;\n",
              "    }\n",
              "</style>\n",
              "<table border=\"1\" class=\"dataframe\">\n",
              "  <thead>\n",
              "    <tr style=\"text-align: right;\">\n",
              "      <th></th>\n",
              "      <th>CC_Strength</th>\n",
              "    </tr>\n",
              "  </thead>\n",
              "  <tbody>\n",
              "    <tr>\n",
              "      <th>747</th>\n",
              "      <td>26.062193</td>\n",
              "    </tr>\n",
              "    <tr>\n",
              "      <th>718</th>\n",
              "      <td>10.354551</td>\n",
              "    </tr>\n",
              "    <tr>\n",
              "      <th>175</th>\n",
              "      <td>79.296635</td>\n",
              "    </tr>\n",
              "    <tr>\n",
              "      <th>828</th>\n",
              "      <td>74.987410</td>\n",
              "    </tr>\n",
              "    <tr>\n",
              "      <th>713</th>\n",
              "      <td>9.694722</td>\n",
              "    </tr>\n",
              "    <tr>\n",
              "      <th>...</th>\n",
              "      <td>...</td>\n",
              "    </tr>\n",
              "    <tr>\n",
              "      <th>624</th>\n",
              "      <td>27.530777</td>\n",
              "    </tr>\n",
              "    <tr>\n",
              "      <th>987</th>\n",
              "      <td>33.762261</td>\n",
              "    </tr>\n",
              "    <tr>\n",
              "      <th>424</th>\n",
              "      <td>33.005216</td>\n",
              "    </tr>\n",
              "    <tr>\n",
              "      <th>889</th>\n",
              "      <td>33.715376</td>\n",
              "    </tr>\n",
              "    <tr>\n",
              "      <th>249</th>\n",
              "      <td>13.817099</td>\n",
              "    </tr>\n",
              "  </tbody>\n",
              "</table>\n",
              "<p>206 rows × 1 columns</p>\n",
              "</div>"
            ],
            "text/plain": [
              "     CC_Strength\n",
              "747    26.062193\n",
              "718    10.354551\n",
              "175    79.296635\n",
              "828    74.987410\n",
              "713     9.694722\n",
              "..           ...\n",
              "624    27.530777\n",
              "987    33.762261\n",
              "424    33.005216\n",
              "889    33.715376\n",
              "249    13.817099\n",
              "\n",
              "[206 rows x 1 columns]"
            ]
          },
          "metadata": {
            "tags": []
          },
          "execution_count": 59
        }
      ]
    },
    {
      "cell_type": "code",
      "metadata": {
        "colab": {
          "base_uri": "https://localhost:8080/"
        },
        "id": "FkHq8Gd19jCw",
        "outputId": "4a654cdd-e520-4818-f0fc-0ace86f8b219"
      },
      "source": [
        "Y_pred_lr=lr.predict(X_test)\n",
        "Y_pred_lr"
      ],
      "execution_count": 60,
      "outputs": [
        {
          "output_type": "execute_result",
          "data": {
            "text/plain": [
              "array([[39.15859076],\n",
              "       [14.62160337],\n",
              "       [61.43707846],\n",
              "       [53.79855463],\n",
              "       [24.6752326 ],\n",
              "       [53.43774751],\n",
              "       [46.04755596],\n",
              "       [27.01652289],\n",
              "       [52.98916469],\n",
              "       [37.76497851],\n",
              "       [16.78431458],\n",
              "       [39.37898598],\n",
              "       [29.59061242],\n",
              "       [35.96968519],\n",
              "       [47.56760893],\n",
              "       [56.54529209],\n",
              "       [35.46689533],\n",
              "       [29.57541423],\n",
              "       [48.32193101],\n",
              "       [35.08931157],\n",
              "       [53.50415902],\n",
              "       [32.64123647],\n",
              "       [32.79089518],\n",
              "       [47.86109857],\n",
              "       [23.52718752],\n",
              "       [23.50178227],\n",
              "       [69.31287402],\n",
              "       [26.44657241],\n",
              "       [56.53587522],\n",
              "       [48.27990146],\n",
              "       [18.94826435],\n",
              "       [36.73983049],\n",
              "       [17.69991652],\n",
              "       [19.85723155],\n",
              "       [24.53282483],\n",
              "       [15.47733735],\n",
              "       [52.97691507],\n",
              "       [27.88511249],\n",
              "       [27.49675788],\n",
              "       [26.10166771],\n",
              "       [52.3753725 ],\n",
              "       [30.71124674],\n",
              "       [25.8183362 ],\n",
              "       [35.35433495],\n",
              "       [53.51293242],\n",
              "       [53.83153783],\n",
              "       [30.33514696],\n",
              "       [43.74167564],\n",
              "       [27.3548017 ],\n",
              "       [58.28625023],\n",
              "       [36.82516594],\n",
              "       [19.22425519],\n",
              "       [23.41800793],\n",
              "       [34.65976925],\n",
              "       [43.64931885],\n",
              "       [47.10616772],\n",
              "       [35.80020503],\n",
              "       [52.89884482],\n",
              "       [59.93756765],\n",
              "       [36.71167495],\n",
              "       [31.10790522],\n",
              "       [20.47269444],\n",
              "       [50.43462899],\n",
              "       [55.42457496],\n",
              "       [20.77309574],\n",
              "       [44.38410791],\n",
              "       [33.34785225],\n",
              "       [34.20868272],\n",
              "       [19.37975189],\n",
              "       [20.06352424],\n",
              "       [28.20379934],\n",
              "       [27.65114585],\n",
              "       [54.29237027],\n",
              "       [19.6851157 ],\n",
              "       [36.60028012],\n",
              "       [50.43926228],\n",
              "       [28.18408604],\n",
              "       [19.39707751],\n",
              "       [24.00401974],\n",
              "       [28.12208671],\n",
              "       [18.28763563],\n",
              "       [44.62694743],\n",
              "       [32.92000229],\n",
              "       [33.03346694],\n",
              "       [38.31513864],\n",
              "       [34.73894889],\n",
              "       [48.5871996 ],\n",
              "       [50.27833195],\n",
              "       [38.72755721],\n",
              "       [31.28531301],\n",
              "       [52.84823778],\n",
              "       [20.49636061],\n",
              "       [25.74923369],\n",
              "       [37.07980887],\n",
              "       [26.37517778],\n",
              "       [56.66424882],\n",
              "       [32.47413221],\n",
              "       [33.9245629 ],\n",
              "       [51.12898921],\n",
              "       [27.22984681],\n",
              "       [30.1414387 ],\n",
              "       [38.10456347],\n",
              "       [25.31143505],\n",
              "       [32.09518989],\n",
              "       [34.04753977],\n",
              "       [35.50910474],\n",
              "       [39.34164682],\n",
              "       [32.24958774],\n",
              "       [28.05530019],\n",
              "       [39.77516495],\n",
              "       [18.59092489],\n",
              "       [49.10814623],\n",
              "       [25.56397021],\n",
              "       [33.01048609],\n",
              "       [40.16675319],\n",
              "       [64.13351106],\n",
              "       [31.25360437],\n",
              "       [35.79883068],\n",
              "       [41.51565242],\n",
              "       [31.74319688],\n",
              "       [42.03879351],\n",
              "       [26.04950357],\n",
              "       [60.89292439],\n",
              "       [26.36478535],\n",
              "       [17.94422405],\n",
              "       [20.26644441],\n",
              "       [15.76640617],\n",
              "       [19.48252252],\n",
              "       [39.98491757],\n",
              "       [32.64867958],\n",
              "       [29.93822551],\n",
              "       [48.13370839],\n",
              "       [33.47639803],\n",
              "       [24.5490142 ],\n",
              "       [19.62874853],\n",
              "       [54.23239697],\n",
              "       [62.39347691],\n",
              "       [36.88754677],\n",
              "       [11.62333251],\n",
              "       [19.05175733],\n",
              "       [38.73867776],\n",
              "       [47.7375941 ],\n",
              "       [32.55716933],\n",
              "       [18.0280451 ],\n",
              "       [16.69382284],\n",
              "       [36.24599449],\n",
              "       [47.85896165],\n",
              "       [25.19010443],\n",
              "       [27.54526706],\n",
              "       [16.66080765],\n",
              "       [24.49757802],\n",
              "       [28.32364219],\n",
              "       [26.5711725 ],\n",
              "       [19.46111725],\n",
              "       [31.29024321],\n",
              "       [30.69802916],\n",
              "       [47.79610262],\n",
              "       [30.27297046],\n",
              "       [30.84128022],\n",
              "       [22.43251143],\n",
              "       [38.65285601],\n",
              "       [42.45015692],\n",
              "       [23.84474606],\n",
              "       [25.94655783],\n",
              "       [33.31571713],\n",
              "       [23.22127908],\n",
              "       [57.49402164],\n",
              "       [53.31004815],\n",
              "       [58.68236452],\n",
              "       [11.18005267],\n",
              "       [31.08897024],\n",
              "       [33.68725243],\n",
              "       [24.55251341],\n",
              "       [59.85709183],\n",
              "       [21.39551647],\n",
              "       [21.41814459],\n",
              "       [16.78849177],\n",
              "       [48.79814599],\n",
              "       [23.56834394],\n",
              "       [39.29925068],\n",
              "       [33.38049125],\n",
              "       [31.88965464],\n",
              "       [18.98859757],\n",
              "       [38.89791393],\n",
              "       [31.06647757],\n",
              "       [27.82074443],\n",
              "       [41.07997661],\n",
              "       [39.82812134],\n",
              "       [27.94150996],\n",
              "       [50.43462899],\n",
              "       [21.22704509],\n",
              "       [72.53870109],\n",
              "       [44.54755775],\n",
              "       [28.17486166],\n",
              "       [14.8497919 ],\n",
              "       [29.42018306],\n",
              "       [31.57185013],\n",
              "       [27.61955272],\n",
              "       [30.60360784],\n",
              "       [58.48140232],\n",
              "       [17.61134165],\n",
              "       [21.03195886],\n",
              "       [41.43055547],\n",
              "       [31.3488842 ],\n",
              "       [33.46787208],\n",
              "       [23.48458261]])"
            ]
          },
          "metadata": {
            "tags": []
          },
          "execution_count": 60
        }
      ]
    },
    {
      "cell_type": "code",
      "metadata": {
        "colab": {
          "base_uri": "https://localhost:8080/"
        },
        "id": "VwscmwAR-HXf",
        "outputId": "e66ebe3a-3fa4-4a91-f910-82aaec8d1dab"
      },
      "source": [
        "from sklearn.metrics import r2_score\n",
        "r2_score(Y_test,Y_pred_lr)"
      ],
      "execution_count": 61,
      "outputs": [
        {
          "output_type": "execute_result",
          "data": {
            "text/plain": [
              "0.6368981103411098"
            ]
          },
          "metadata": {
            "tags": []
          },
          "execution_count": 61
        }
      ]
    },
    {
      "cell_type": "code",
      "metadata": {
        "colab": {
          "base_uri": "https://localhost:8080/",
          "height": 398
        },
        "id": "jJcfBv9n-RMG",
        "outputId": "5ba4e292-a54a-450f-a17a-0774985d87b0"
      },
      "source": [
        "#plt.scatter(X_train,Y_train)\n",
        "plt.plot(X_train,lr.predict(X_train),color='red')"
      ],
      "execution_count": 62,
      "outputs": [
        {
          "output_type": "execute_result",
          "data": {
            "text/plain": [
              "[<matplotlib.lines.Line2D at 0x7fd7e2201150>,\n",
              " <matplotlib.lines.Line2D at 0x7fd7e2201390>,\n",
              " <matplotlib.lines.Line2D at 0x7fd7e2201550>,\n",
              " <matplotlib.lines.Line2D at 0x7fd7e2201710>,\n",
              " <matplotlib.lines.Line2D at 0x7fd7e22018d0>,\n",
              " <matplotlib.lines.Line2D at 0x7fd7e2201a50>,\n",
              " <matplotlib.lines.Line2D at 0x7fd7e2201c90>,\n",
              " <matplotlib.lines.Line2D at 0x7fd7e2201e50>]"
            ]
          },
          "metadata": {
            "tags": []
          },
          "execution_count": 62
        },
        {
          "output_type": "display_data",
          "data": {
            "image/png": "[encoded data removed]",
            "text/plain": [
              "<Figure size 432x288 with 1 Axes>"
            ]
          },
          "metadata": {
            "tags": [],
            "needs_background": "light"
          }
        }
      ]
    },
    {
      "cell_type": "markdown",
      "metadata": {
        "id": "s1xBocLmN3AQ"
      },
      "source": [
        "#**Decision Tree Regressor**"
      ]
    },
    {
      "cell_type": "code",
      "metadata": {
        "colab": {
          "base_uri": "https://localhost:8080/"
        },
        "id": "j2II25qQMVFc",
        "outputId": "ac425a21-d292-4eba-80c7-680fd4afd6a5"
      },
      "source": [
        "from sklearn.tree import DecisionTreeRegressor\n",
        "dtr = DecisionTreeRegressor()\n",
        "dtr.fit(X_train, Y_train)"
      ],
      "execution_count": 63,
      "outputs": [
        {
          "output_type": "execute_result",
          "data": {
            "text/plain": [
              "DecisionTreeRegressor(ccp_alpha=0.0, criterion='mse', max_depth=None,\n",
              "                      max_features=None, max_leaf_nodes=None,\n",
              "                      min_impurity_decrease=0.0, min_impurity_split=None,\n",
              "                      min_samples_leaf=1, min_samples_split=2,\n",
              "                      min_weight_fraction_leaf=0.0, presort='deprecated',\n",
              "                      random_state=None, splitter='best')"
            ]
          },
          "metadata": {
            "tags": []
          },
          "execution_count": 63
        }
      ]
    },
    {
      "cell_type": "code",
      "metadata": {
        "colab": {
          "base_uri": "https://localhost:8080/"
        },
        "id": "h81LomW5O96e",
        "outputId": "538d4fb2-cc74-4162-d856-7a95a0e9123c"
      },
      "source": [
        "Y_pred_dtr=dtr.predict(X_test)\n",
        "Y_pred_dtr"
      ],
      "execution_count": 64,
      "outputs": [
        {
          "output_type": "execute_result",
          "data": {
            "text/plain": [
              "array([12.63809508,  7.50701469, 79.29663476, 56.3991368 ,  9.13142014,\n",
              "       47.64623898, 58.52272288, 23.5111316 , 79.98611076, 56.14196225,\n",
              "       17.57612219, 40.38950408, 29.44751996, 12.37264682, 68.29949256,\n",
              "       56.14403068, 42.29245784, 35.76312012, 59.76377968, 34.73580088,\n",
              "       56.33708396, 26.94472208, 21.50475644, 59.76377968, 14.54104884,\n",
              "       25.17966352, 60.2946762 , 31.35047372, 56.14403068, 66.82401392,\n",
              "       17.57612219, 48.8466167 , 24.28196577, 27.82725136, 21.17932377,\n",
              "        9.13142014, 35.3011712 , 25.3727168 , 32.6266938 , 37.2661778 ,\n",
              "       39.300132  , 31.35047372, 32.24541357, 38.20386516, 47.72208134,\n",
              "       33.39821744, 24.0654703 , 42.42345828, 32.82319446, 51.73276323,\n",
              "       42.14008364, 27.82725136, 16.50398701, 40.7135578 , 48.9872698 ,\n",
              "       43.94237391, 55.50971276, 47.72208134, 64.30053176, 36.96970312,\n",
              "       38.21075992, 24.65566176, 67.76564114, 54.09628696, 17.16588397,\n",
              "       67.69964844, 39.41734292, 24.3385028 , 13.19657064, 14.8437288 ,\n",
              "       17.57474324, 28.46846404, 49.20100736, 27.82725136, 67.69964844,\n",
              "       25.02108404, 40.2309246 , 15.0305768 , 39.60488039, 42.03045696,\n",
              "       13.08901238, 51.03501352, 17.36790044, 34.23937816, 52.04164848,\n",
              "       47.401475  , 36.83870268, 47.72208134, 38.6306508 , 38.56239268,\n",
              "       62.05284   , 14.98920824, 12.5484632 , 50.60064364, 15.56974703,\n",
              "       39.77931782, 12.5484632 , 41.540929  , 46.68441996, 39.60488039,\n",
              "       19.41564416, 23.52492112, 31.35047372, 29.87085822, 37.2661778 ,\n",
              "       42.14008364, 53.72396992, 12.5484632 , 38.21075992, 53.52402188,\n",
              "        6.90234424, 41.36856   , 16.10960674, 34.23937816, 36.80491836,\n",
              "       67.11359384, 37.43785732, 37.91428524, 31.35047372, 19.41564416,\n",
              "       44.13335876, 26.91714304, 64.30053176, 29.65436276, 12.4595208 ,\n",
              "       10.7875415 , 11.46598588,  7.72351015, 25.0969264 , 37.231704  ,\n",
              "       31.64005364, 56.14196225, 34.67374804, 31.41942132,  9.61750072,\n",
              "       56.33708396, 31.35047372, 33.4195912 ,  2.33180783, 15.74832132,\n",
              "       31.35047372, 51.73276323, 22.94576128, 28.62704352, 17.57612219,\n",
              "       33.70158688, 36.9903874 ,  9.01145132, 31.74347504, 17.57612219,\n",
              "       17.22311048, 15.41668336, 17.83674412, 37.17103011, 31.35047372,\n",
              "       42.63719584, 49.20100736, 24.0654703 , 33.798803  , 27.82725136,\n",
              "       45.93978588, 41.68434001, 15.52010476, 22.48932817, 26.85991653,\n",
              "        7.72351015, 50.65511224, 47.72208134, 51.73276323, 10.38350856,\n",
              "       33.4195912 , 43.58177796, 31.74347504, 34.48758952, 10.76272036,\n",
              "       13.12072828,  8.53640236, 39.00464228, 39.60488039, 56.8472962 ,\n",
              "       12.37264682, 29.87085822, 14.8437288 , 33.70158688, 12.73462172,\n",
              "       52.90831981, 31.35047372, 44.27814872, 15.04436632, 67.76564114,\n",
              "       31.74347504, 70.69886904, 61.23581094, 35.76312012,  2.33180783,\n",
              "       47.78206575, 33.39959639, 23.83518532, 31.53663224, 68.29949256,\n",
              "       20.77391188, 27.82725136, 33.75674496, 17.8229546 , 39.41734292,\n",
              "       12.47262084])"
            ]
          },
          "metadata": {
            "tags": []
          },
          "execution_count": 64
        }
      ]
    },
    {
      "cell_type": "code",
      "metadata": {
        "colab": {
          "base_uri": "https://localhost:8080/"
        },
        "id": "aCZZvk28PFeE",
        "outputId": "886909b5-5aed-4ff9-a68d-e420926d55cb"
      },
      "source": [
        "from sklearn.metrics import r2_score\n",
        "r2_score(Y_test,Y_pred_dtr)"
      ],
      "execution_count": 65,
      "outputs": [
        {
          "output_type": "execute_result",
          "data": {
            "text/plain": [
              "0.7896653278748581"
            ]
          },
          "metadata": {
            "tags": []
          },
          "execution_count": 65
        }
      ]
    },
    {
      "cell_type": "code",
      "metadata": {
        "colab": {
          "base_uri": "https://localhost:8080/",
          "height": 398
        },
        "id": "6IYY3jwTPo-g",
        "outputId": "650b6977-7e5e-42ed-c904-199017f2c2f3"
      },
      "source": [
        "#plt.scatter(X_train,Y_train)\n",
        "plt.plot(X_train,dtr.predict(X_train),color='red')"
      ],
      "execution_count": 66,
      "outputs": [
        {
          "output_type": "execute_result",
          "data": {
            "text/plain": [
              "[<matplotlib.lines.Line2D at 0x7fd7e27850d0>,\n",
              " <matplotlib.lines.Line2D at 0x7fd7e2785310>,\n",
              " <matplotlib.lines.Line2D at 0x7fd7e27854d0>,\n",
              " <matplotlib.lines.Line2D at 0x7fd7e2785690>,\n",
              " <matplotlib.lines.Line2D at 0x7fd7e2785850>,\n",
              " <matplotlib.lines.Line2D at 0x7fd7e27859d0>,\n",
              " <matplotlib.lines.Line2D at 0x7fd7e2785c10>,\n",
              " <matplotlib.lines.Line2D at 0x7fd7e2785dd0>]"
            ]
          },
          "metadata": {
            "tags": []
          },
          "execution_count": 66
        },
        {
          "output_type": "display_data",
          "data": {
            "image/png": "[encoded data removed]",
            "text/plain": [
              "<Figure size 432x288 with 1 Axes>"
            ]
          },
          "metadata": {
            "tags": [],
            "needs_background": "light"
          }
        }
      ]
    },
    {
      "cell_type": "markdown",
      "metadata": {
        "id": "2QmyJrcYRKgF"
      },
      "source": [
        "#**Random Forest Regressor**"
      ]
    },
    {
      "cell_type": "code",
      "metadata": {
        "colab": {
          "base_uri": "https://localhost:8080/"
        },
        "id": "CNS0a3CCRO2d",
        "outputId": "289e7368-a4fe-47b1-ba47-71a012bcaf3f"
      },
      "source": [
        "from sklearn.ensemble import RandomForestRegressor\n",
        "rfr=RandomForestRegressor()\n",
        "rfr.fit(X_train,Y_train)"
      ],
      "execution_count": 67,
      "outputs": [
        {
          "output_type": "stream",
          "text": [
            "/usr/local/lib/python3.7/dist-packages/ipykernel_launcher.py:3: DataConversionWarning: A column-vector y was passed when a 1d array was expected. Please change the shape of y to (n_samples,), for example using ravel().\n",
            "  This is separate from the ipykernel package so we can avoid doing imports until\n"
          ],
          "name": "stderr"
        },
        {
          "output_type": "execute_result",
          "data": {
            "text/plain": [
              "RandomForestRegressor(bootstrap=True, ccp_alpha=0.0, criterion='mse',\n",
              "                      max_depth=None, max_features='auto', max_leaf_nodes=None,\n",
              "                      max_samples=None, min_impurity_decrease=0.0,\n",
              "                      min_impurity_split=None, min_samples_leaf=1,\n",
              "                      min_samples_split=2, min_weight_fraction_leaf=0.0,\n",
              "                      n_estimators=100, n_jobs=None, oob_score=False,\n",
              "                      random_state=None, verbose=0, warm_start=False)"
            ]
          },
          "metadata": {
            "tags": []
          },
          "execution_count": 67
        }
      ]
    },
    {
      "cell_type": "code",
      "metadata": {
        "colab": {
          "base_uri": "https://localhost:8080/"
        },
        "id": "ZyHURVAySHy3",
        "outputId": "cd205d6e-3711-4b82-8a4b-f82723a872ce"
      },
      "source": [
        "Y_pred_rfr=rfr.predict(X_test)\n",
        "Y_pred_rfr"
      ],
      "execution_count": 68,
      "outputs": [
        {
          "output_type": "execute_result",
          "data": {
            "text/plain": [
              "array([22.18880922,  7.60798155, 79.26967625, 60.54856293, 10.76662279,\n",
              "       47.45268796, 59.09916126, 24.24216921, 72.74751105, 51.51870851,\n",
              "       18.3499349 , 43.30695283, 36.05716095, 14.81723224, 54.30552224,\n",
              "       56.16482922, 40.33802977, 35.65032874, 52.35389213, 37.95166173,\n",
              "       59.7380974 , 28.62937395, 29.70321213, 39.02238743, 15.71219967,\n",
              "       24.64542994, 62.90072311, 25.16470189, 57.75468602, 63.32613473,\n",
              "       20.2954638 , 45.8973969 , 27.51929395, 36.36594967, 19.8892797 ,\n",
              "        9.31800417, 33.91373865, 26.66644957, 34.45663894, 33.50529306,\n",
              "       34.26307348, 37.45606639, 32.42306085, 38.20674027, 60.0622169 ,\n",
              "       33.45047972, 28.31792681, 32.08484052, 34.09724564, 51.00386989,\n",
              "       43.97655123, 26.86137822, 21.55459177, 38.81119699, 51.51406144,\n",
              "       44.47002989, 43.69626545, 53.95164671, 64.11196007, 36.36231613,\n",
              "       36.33300651, 23.00933097, 57.25484781, 46.56541443, 12.22265329,\n",
              "       59.32466621, 38.5498718 , 26.43315157, 14.43419385, 14.95376917,\n",
              "       16.3125609 , 28.79644088, 48.81324836, 27.33449665, 36.18967824,\n",
              "       28.76839595, 36.85058235, 12.59768489, 33.11784202, 40.9336937 ,\n",
              "       20.0965155 , 51.43132432, 17.58212457, 32.25554197, 48.05695294,\n",
              "       35.0086679 , 38.20629606, 52.38552288, 41.14310824, 38.29522073,\n",
              "       64.79864765, 14.91457936, 14.74103135, 43.51944243, 15.28250961,\n",
              "       40.15066959, 16.77882594, 41.20360287, 47.90394541, 35.10792684,\n",
              "       13.57845761, 20.12190398, 30.76228568, 28.38691971, 40.46562223,\n",
              "       43.05692814, 54.34275493, 17.05329254, 33.27964825, 47.71735153,\n",
              "        8.00952548, 49.38166288, 14.13442347, 31.78748429, 43.81262142,\n",
              "       63.65316895, 36.29159658, 36.87361774, 37.27605799, 16.40524026,\n",
              "       44.73218246, 27.70067908, 66.11862087, 27.53668549, 12.35022506,\n",
              "       11.63954866, 11.62665447,  8.61742958, 51.60599617, 37.99247182,\n",
              "       33.78605458, 52.72240261, 34.75811593, 31.7553685 , 13.03468168,\n",
              "       56.21976798, 40.29515618, 39.33963897,  5.1583078 , 10.74825515,\n",
              "       35.19874954, 51.24305601, 22.33682593, 30.2509267 , 18.22144415,\n",
              "       34.31623405, 39.87006074, 12.07275234, 42.27836495, 17.82704319,\n",
              "       15.20462123, 15.74622531, 21.40781611, 37.30466435, 38.07006052,\n",
              "       38.11097206, 46.72869844, 26.81328333, 32.22729035, 27.70053946,\n",
              "       42.16966216, 36.84808645, 15.29304652, 35.57251448, 32.98514375,\n",
              "        9.22952568, 49.43821468, 53.19685813, 51.46550854,  9.72945587,\n",
              "       38.03537791, 38.58627613, 32.14062011, 34.50818417, 11.86887823,\n",
              "       13.29218717, 10.26788861, 41.35401632, 33.46806136, 54.53058789,\n",
              "       15.37177779, 28.2556228 , 15.34477791, 38.99864483, 21.37540582,\n",
              "       45.0397705 , 39.36458422, 43.9297565 , 15.37776835, 57.25484781,\n",
              "       31.51640301, 68.20124223, 59.19797499, 33.76168358,  5.94622718,\n",
              "       45.11484853, 32.92425923, 28.45830978, 37.25975582, 68.61464909,\n",
              "       22.03778344, 28.2733837 , 34.09010661, 27.95994102, 38.8118451 ,\n",
              "       11.17923675])"
            ]
          },
          "metadata": {
            "tags": []
          },
          "execution_count": 68
        }
      ]
    },
    {
      "cell_type": "code",
      "metadata": {
        "colab": {
          "base_uri": "https://localhost:8080/"
        },
        "id": "UbHDOu2vSRi1",
        "outputId": "b8204ed9-9136-4c44-8432-befbde211173"
      },
      "source": [
        "from sklearn.metrics import r2_score\n",
        "r2_score(Y_test,Y_pred_rfr)"
      ],
      "execution_count": 69,
      "outputs": [
        {
          "output_type": "execute_result",
          "data": {
            "text/plain": [
              "0.9209187980681427"
            ]
          },
          "metadata": {
            "tags": []
          },
          "execution_count": 69
        }
      ]
    },
    {
      "cell_type": "code",
      "metadata": {
        "colab": {
          "base_uri": "https://localhost:8080/",
          "height": 265
        },
        "id": "06WyglcBSX72",
        "outputId": "79be2b66-2546-41c4-c2c5-b4808ef85a88"
      },
      "source": [
        "#plt.scatter(X_train,Y_train)\n",
        "plt.plot(X_train,dtr.predict(X_train),color='red')\n",
        "plt.show()"
      ],
      "execution_count": 70,
      "outputs": [
        {
          "output_type": "display_data",
          "data": {
            "image/png": "[encoded data removed]",
            "text/plain": [
              "<Figure size 432x288 with 1 Axes>"
            ]
          },
          "metadata": {
            "tags": [],
            "needs_background": "light"
          }
        }
      ]
    },
    {
      "cell_type": "code",
      "metadata": {
        "id": "VhITuG69Wfue"
      },
      "source": [
        "import pickle\n",
        "pickle.dump(rfr,open('CC_Strength.pkl','wb'))"
      ],
      "execution_count": 71,
      "outputs": []
    }
  ]
}